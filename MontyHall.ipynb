{
 "cells": [
  {
   "cell_type": "code",
   "execution_count": 1,
   "metadata": {},
   "outputs": [],
   "source": [
    "import numpy as np\n",
    "import random as rnd"
   ]
  },
  {
   "cell_type": "code",
   "execution_count": null,
   "metadata": {},
   "outputs": [],
   "source": []
  },
  {
   "cell_type": "code",
   "execution_count": 2,
   "metadata": {},
   "outputs": [],
   "source": [
    "def place_car():\n",
    "    choose_place_num = rnd.randint(0,2)\n",
    "    if choose_place_num == 0:\n",
    "        place = [1,0,0]\n",
    "    if choose_place_num == 1:\n",
    "        place = [0,1,0]\n",
    "    if choose_place_num == 2:\n",
    "        place = [0,0,1]\n",
    "    return place"
   ]
  },
  {
   "cell_type": "code",
   "execution_count": 3,
   "metadata": {},
   "outputs": [],
   "source": [
    "# Now make a guess\n",
    "def make_a_guess():\n",
    "    return rnd.randint(0,2)\n",
    "    \n",
    "def check_the_guess(place, guess_num):\n",
    "    if place[guess_num]==1:\n",
    "        win = True\n",
    "    else:\n",
    "        win = False\n",
    "    return win"
   ]
  },
  {
   "cell_type": "code",
   "execution_count": 4,
   "metadata": {},
   "outputs": [],
   "source": [
    "def play_it_simple():\n",
    "    return check_the_guess(place_car(), make_a_guess())"
   ]
  },
  {
   "cell_type": "code",
   "execution_count": 5,
   "metadata": {},
   "outputs": [
    {
     "data": {
      "text/plain": [
       "0.3333516"
      ]
     },
     "execution_count": 5,
     "metadata": {},
     "output_type": "execute_result"
    }
   ],
   "source": [
    "Ngames = 10000000\n",
    "Nwins = 0\n",
    "for i in range (0,Ngames):\n",
    "    if play_it_simple()==True:\n",
    "        Nwins += 1 \n",
    "Nwins/Ngames"
   ]
  },
  {
   "cell_type": "code",
   "execution_count": 6,
   "metadata": {},
   "outputs": [],
   "source": [
    "def open_one_goat(place, guess_num):\n",
    "    if place[guess_num] == 1: # open randomly either of the other doors\n",
    "        tried_first_goat = False\n",
    "        for i in range(0,3):\n",
    "            if place[i]==1: # this is the car door, don't open it\n",
    "                continue\n",
    "            else:\n",
    "                if tried_first_goat == True: # the goat door with lower number didn't get its 50% chance to get opened\n",
    "                                             # therfore open this one for sure\n",
    "                    return i\n",
    "                else:\n",
    "                    tried_first_goat = True\n",
    "                    if rnd.randint(0,1) == 0: # open the goat door with a lower number with 50% chance\n",
    "                        return i\n",
    "                    else:\n",
    "                        continue\n",
    "    else: # there is only one option for a goat door to be opened, the one which is not the guessed number and which is not the car door\n",
    "        for i in range(0,3):\n",
    "            if guess_num != i and place[i] != 1:\n",
    "                return i\n",
    "        \n",
    "        "
   ]
  },
  {
   "cell_type": "code",
   "execution_count": 10,
   "metadata": {},
   "outputs": [],
   "source": [
    "def switch_doors(guess_num,open_goat):\n",
    "    for i in range(0,3):\n",
    "        if i != guess_num and i!=open_goat:\n",
    "            return i"
   ]
  },
  {
   "cell_type": "code",
   "execution_count": 11,
   "metadata": {},
   "outputs": [],
   "source": [
    "def play_with_switch():\n",
    "    place = place_car()\n",
    "    guess_num = make_a_guess()\n",
    "    goat_door_num = open_one_goat(place, guess_num)\n",
    "    new_guess_num = switch_doors(guess_num, goat_door_num)\n",
    "    return check_the_guess(place, new_guess_num)"
   ]
  },
  {
   "cell_type": "code",
   "execution_count": 13,
   "metadata": {},
   "outputs": [
    {
     "data": {
      "text/plain": [
       "0.6668712"
      ]
     },
     "execution_count": 13,
     "metadata": {},
     "output_type": "execute_result"
    }
   ],
   "source": [
    "Ngames = 10000000\n",
    "Nwins = 0\n",
    "for i in range (0,Ngames):\n",
    "    if play_with_switch()==True:\n",
    "        Nwins += 1 \n",
    "Nwins/Ngames"
   ]
  },
  {
   "cell_type": "code",
   "execution_count": 14,
   "metadata": {},
   "outputs": [],
   "source": [
    "def play_both(): # return 0 if the car behind original guess, return 1 if the car is behind the other door\n",
    "    place = place_car()\n",
    "    guess_num = make_a_guess()\n",
    "    goat_door_num = open_one_goat(place, guess_num)\n",
    "    the_other_door_num = switch_doors(guess_num, goat_door_num)\n",
    "    if check_the_guess(place, guess_num):\n",
    "        return 0\n",
    "    elif check_the_guess(place, the_other_door_num):\n",
    "        return 1\n",
    "    "
   ]
  },
  {
   "cell_type": "code",
   "execution_count": 15,
   "metadata": {},
   "outputs": [
    {
     "name": "stdout",
     "output_type": "stream",
     "text": [
      "0.3331572 0.6668428\n"
     ]
    }
   ],
   "source": [
    "Noriginal = 0\n",
    "Nother = 0\n",
    "for i in range(0,Ngames):\n",
    "    outcome = play_both()\n",
    "    if outcome == 0:\n",
    "        Noriginal += 1\n",
    "    else:\n",
    "        Nother += 1\n",
    "print(Noriginal/Ngames, Nother/Ngames)"
   ]
  },
  {
   "cell_type": "code",
   "execution_count": null,
   "metadata": {},
   "outputs": [],
   "source": []
  }
 ],
 "metadata": {
  "kernelspec": {
   "display_name": "Python 3",
   "language": "python",
   "name": "python3"
  },
  "language_info": {
   "codemirror_mode": {
    "name": "ipython",
    "version": 3
   },
   "file_extension": ".py",
   "mimetype": "text/x-python",
   "name": "python",
   "nbconvert_exporter": "python",
   "pygments_lexer": "ipython3",
   "version": "3.8.5"
  }
 },
 "nbformat": 4,
 "nbformat_minor": 4
}
