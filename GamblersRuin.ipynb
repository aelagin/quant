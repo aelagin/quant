{
 "cells": [
  {
   "cell_type": "code",
   "execution_count": 1,
   "metadata": {},
   "outputs": [],
   "source": [
    "import random as rnd"
   ]
  },
  {
   "cell_type": "code",
   "execution_count": 2,
   "metadata": {},
   "outputs": [],
   "source": [
    "p = 0.6\n",
    "cash = 25\n",
    "N = 40"
   ]
  },
  {
   "cell_type": "code",
   "execution_count": 3,
   "metadata": {},
   "outputs": [],
   "source": [
    "def play_round(p):\n",
    "    if rnd.uniform(0,1)<p:\n",
    "        return 1\n",
    "    else:\n",
    "        return -1\n",
    "\n",
    "def play_game(p, cash, N):\n",
    "    while not(cash>=N or cash<=0):\n",
    "        cash += play_round(p)\n",
    "    return cash"
   ]
  },
  {
   "cell_type": "code",
   "execution_count": 4,
   "metadata": {},
   "outputs": [
    {
     "name": "stdout",
     "output_type": "stream",
     "text": [
      "1.0\n",
      "0.0      41.0\n"
     ]
    }
   ],
   "source": [
    "Ngames = 1000000\n",
    "Nwin = 0\n",
    "Nloss = 0\n",
    "for i in range(0,Ngames):\n",
    "    if play_game(p, cash, N)>=N:\n",
    "        Nwin += 1\n",
    "    else:\n",
    "        Nloss += 1\n",
    "print(Nwin/Ngames)\n",
    "print(Nloss/Ngames,'    ', Nwin/Ngames+Nloss/Ngames, '   ', N)\n",
    "    "
   ]
  },
  {
   "cell_type": "code",
   "execution_count": 5,
   "metadata": {},
   "outputs": [],
   "source": [
    "def analytical_solution(p, i, N):\n",
    "    q = 1-p\n",
    "    if p==0.5:\n",
    "        return i/N\n",
    "    else:\n",
    "        return (1-(q/p)**i)/(1-(q/p)**N)"
   ]
  },
  {
   "cell_type": "code",
   "execution_count": 6,
   "metadata": {},
   "outputs": [
    {
     "data": {
      "text/plain": [
       "1.0"
      ]
     },
     "execution_count": 6,
     "metadata": {},
     "output_type": "execute_result"
    }
   ],
   "source": [
    "analytical_solution(p, cash, N)"
   ]
  },
  {
   "cell_type": "code",
   "execution_count": null,
   "metadata": {},
   "outputs": [],
   "source": []
  }
 ],
 "metadata": {
  "kernelspec": {
   "display_name": "Python 3",
   "language": "python",
   "name": "python3"
  },
  "language_info": {
   "codemirror_mode": {
    "name": "ipython",
    "version": 3
   },
   "file_extension": ".py",
   "mimetype": "text/x-python",
   "name": "python",
   "nbconvert_exporter": "python",
   "pygments_lexer": "ipython3",
   "version": "3.8.5"
  }
 },
 "nbformat": 4,
 "nbformat_minor": 4
}
