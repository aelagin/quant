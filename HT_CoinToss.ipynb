{
 "cells": [
  {
   "cell_type": "code",
   "execution_count": 9,
   "metadata": {},
   "outputs": [],
   "source": [
    "import random as rnd\n",
    "import time"
   ]
  },
  {
   "cell_type": "code",
   "execution_count": 10,
   "metadata": {},
   "outputs": [],
   "source": [
    "def toss():\n",
    "    if rnd.randint(0,1)==0:\n",
    "        return 'H'\n",
    "    else:\n",
    "        return 'T'"
   ]
  },
  {
   "cell_type": "code",
   "execution_count": 11,
   "metadata": {},
   "outputs": [],
   "source": [
    "def play():\n",
    "    previous_toss = toss()\n",
    "    count = 1\n",
    "    while True:\n",
    "        count += 1 #previous toss has already happened, therefore increase the toss counter before (or could have right after) the current toss\n",
    "        current_toss = toss() \n",
    "        if previous_toss+current_toss == 'HT':\n",
    "            previous_toss = current_toss\n",
    "            break\n",
    "        previous_toss = current_toss\n",
    "        \n",
    "    if count%2 == 1:\n",
    "        return 'A'\n",
    "    else:\n",
    "        return 'B'"
   ]
  },
  {
   "cell_type": "code",
   "execution_count": 18,
   "metadata": {},
   "outputs": [
    {
     "name": "stdout",
     "output_type": "stream",
     "text": [
      "28.703465461730957\n",
      "0.4445264    0.5554736\n",
      "8.195555555556844e-05    -8.195555555556844e-05\n"
     ]
    }
   ],
   "source": [
    "Ngames = 10000000\n",
    "N_Awins = 0\n",
    "N_Bwins = 0\n",
    "start = time.time()\n",
    "for i in range(0,Ngames):\n",
    "    if play() == 'A':\n",
    "        N_Awins += 1\n",
    "    else:\n",
    "        N_Bwins += 1\n",
    "print(time.time()-start)\n",
    "print(N_Awins/Ngames,'  ',N_Bwins/Ngames)\n",
    "print(N_Awins/Ngames-4/9.,'  ',N_Bwins/Ngames-5/9.)"
   ]
  },
  {
   "cell_type": "code",
   "execution_count": 23,
   "metadata": {},
   "outputs": [],
   "source": [
    "# Set randint(0,1)==0 corresponds to H, randint(0,1)==0 corresponds to T\n",
    "def play_fast():\n",
    "    previous_toss = rnd.randint(0,1)\n",
    "    count = 1\n",
    "    while True:\n",
    "        count += 1 #previous toss has already happened, therefore increase the toss counter before (or could have right after) the current toss\n",
    "        current_toss = rnd.randint(0,1)\n",
    "        if previous_toss-current_toss == -1:\n",
    "            previous_toss = current_toss\n",
    "            return count\n",
    "        previous_toss = current_toss"
   ]
  },
  {
   "cell_type": "code",
   "execution_count": 25,
   "metadata": {},
   "outputs": [
    {
     "name": "stdout",
     "output_type": "stream",
     "text": [
      "31.084136962890625\n",
      "Average tosses:  4.0006247\n",
      "0.4446727    0.5553273\n",
      "0.00022825555555555654    -0.00022825555555561206\n"
     ]
    }
   ],
   "source": [
    "Ngames = 10000000\n",
    "N_Awins = 0\n",
    "N_Bwins = 0\n",
    "total_count = 0\n",
    "start = time.time()\n",
    "for i in range(0,Ngames):\n",
    "    count = play_fast() \n",
    "    total_count += count\n",
    "    if count%2 == 1:\n",
    "        N_Awins += 1\n",
    "    else:\n",
    "        N_Bwins += 1\n",
    "print(time.time()-start)\n",
    "print('Average tosses: ', total_count/Ngames)\n",
    "print(N_Awins/Ngames,'  ',N_Bwins/Ngames)\n",
    "print(N_Awins/Ngames-4/9.,'  ',N_Bwins/Ngames-5/9.)"
   ]
  },
  {
   "cell_type": "code",
   "execution_count": null,
   "metadata": {},
   "outputs": [],
   "source": [
    "# no gain in time due to avoiding strings..."
   ]
  }
 ],
 "metadata": {
  "kernelspec": {
   "display_name": "Python 3",
   "language": "python",
   "name": "python3"
  },
  "language_info": {
   "codemirror_mode": {
    "name": "ipython",
    "version": 3
   },
   "file_extension": ".py",
   "mimetype": "text/x-python",
   "name": "python",
   "nbconvert_exporter": "python",
   "pygments_lexer": "ipython3",
   "version": "3.8.5"
  }
 },
 "nbformat": 4,
 "nbformat_minor": 4
}
